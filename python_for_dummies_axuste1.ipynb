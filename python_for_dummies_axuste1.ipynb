{
 "cells": [
  {
   "cell_type": "markdown",
   "metadata": {},
   "source": [
    "# Python for Dummies\n",
    "## 1. Axustes lineais e non lineais con `curve_fit`\n",
    "\n",
    "Como imos traballar con `curve_fit` da exactamente igual que o axuste sexa lienal ou non lineal, simplemente temos que ter o coidado de que os axustes non lineais ás veces esixen poñer uns parámetros iniciais afinados a priori (elaboraremos nisto máis adiante)."
   ]
  },
  {
   "cell_type": "markdown",
   "metadata": {},
   "source": [
    "Comezamos por importar as tres librerías que imos utilizar:\n",
    "- `numpy`: Librería enfocada ao cálculo numérico con vectores e matrices en n dimensións. Traballa de xeito moi eficiente, le o programa e logo traballa en C++ cos ndarrays, xa que isto fai que o noso código funcione moito máis rápido. Imos priorizar os numpy arrays sempre sobre as listas.\n",
    "\n",
    "- `scipy`: Librería enfocada a utilidades científicas, como realizar axustes, resolver ecuacións diferenciais, problemas de optimización...\n",
    "\n",
    "- `matplotlib`: Librería enfocada ao deseño de gráfica e imaxes por excelencia."
   ]
  },
  {
   "cell_type": "code",
   "execution_count": 20,
   "metadata": {},
   "outputs": [],
   "source": [
    "import numpy as np\n",
    "import scipy.optimize as sco\n",
    "import matplotlib.pyplot as plt"
   ]
  },
  {
   "cell_type": "markdown",
   "metadata": {},
   "source": [
    "Comezamos agora por importar os datos. Tipicamente o máis sinxelo eu creo que é importalos dun arquivo `.txt` ou `.csv`. Pódense importar tamén dun excel, pero a complexidade de facer isto non compensa o pouco que se tarda en pasalos aun arquivo `.txt` por columnas. O arquivo que imos utilizar está subido tamén no git."
   ]
  },
  {
   "cell_type": "code",
   "execution_count": 56,
   "metadata": {},
   "outputs": [
    {
     "name": "stdout",
     "output_type": "stream",
     "text": [
      "nome_data é: datos_axuste_1.txt tipo <class 'str'>\n",
      "datos é: [[ 1.  12.8  1.3]\n",
      " [ 2.   6.7  0.7]\n",
      " [ 3.   2.5  0.2]\n",
      " [ 4.   0.9  0.1]\n",
      " [ 5.   2.5  0.3]\n",
      " [ 6.   7.8  0.8]\n",
      " [ 7.  17.4  1.7]\n",
      " [ 8.  31.8  3.2]\n",
      " [ 9.  51.7  5.2]\n",
      " [10.  77.5  7.8]] tipo <class 'numpy.ndarray'>\n"
     ]
    }
   ],
   "source": [
    "nome_data = 'datos_axuste_1.txt' #Aquí poñemos o nome do arquivo\n",
    "\n",
    "# A r antes dunha string serve para que esta entenda formato LaTeX!\n",
    "label_x = r'E $[GeV]$'\n",
    "label_y = r'$\\sqrt{\\eta}$'\n",
    "\n",
    "titulo = r'Aqui tamen vale latex $\\frac{\\Lambda}{\\Theta}$'\n",
    "\n",
    "datos = np.loadtxt(nome_data) #Aquí xa temos o arquivo\n",
    "\n",
    "#Cal é a diferencia entre nome_data e datos?\n",
    "\n",
    "print('nome_data é:', nome_data, 'tipo', type(nome_data))\n",
    "print('datos é:', datos, 'tipo', type(datos))"
   ]
  },
  {
   "cell_type": "markdown",
   "metadata": {},
   "source": [
    "En xeral é boa praxe definir todas as cousas, tal e como fixemos arriba, e non logo ir logo poñendo as cousas en plan set_xlabel('Titulo eixo X'). Tampouco nos imos enganar, eu case nunca o fago como tocaría pero bueno xD"
   ]
  },
  {
   "cell_type": "markdown",
   "metadata": {},
   "source": [
    "Cada fila é unha medida (voume referir a elas como eventos). A primeira columna son os puntos do eixo X, a segunda columna son os puntos do eixo Y, a terceira medida son a incerteza na medida sobre a variable Y (asumimos que a incerteza no eixo X é sempre despreciable ou sistemática)."
   ]
  },
  {
   "cell_type": "markdown",
   "metadata": {},
   "source": [
    "Agora imos a definir a función a axustar. Neste caso os datos están sacados dun polinomio de orde 3, pero poden ser outras funcións non polinómicas, simplemente usaríamos as funcións de `numpy` como `np.cos()` ou `np.sin()` e `curve_fit` vaino entender."
   ]
  },
  {
   "cell_type": "code",
   "execution_count": 13,
   "metadata": {},
   "outputs": [],
   "source": [
    "def funcion_axuste(x, *coefs): #o asterisco (*) indica que non fixamos o número de coeficientes a introducir\n",
    "    A, B, C, D = coefs\n",
    "    y = A + B*x + C*x**2 + D*x**3\n",
    "    # a función podería ser: y = A*np.cos(B*x) + C*np.sin(D*x)\n",
    "    # ou outro tipo de funcións non lineais de numpy!\n",
    "    return y"
   ]
  },
  {
   "cell_type": "markdown",
   "metadata": {},
   "source": [
    "Agora temos que dar uns valores iniciais dos parámetros para que `curve_fit` faga un scan do $\\chi^2$ variando estes parámetros iniciais. É interesante afinar a priori, é dicir, se por razóns físicas sabemos que o coeficiente $A$ ten que ser $T_0$ pois podemos poñer de valor inicial do primeiro coeficiente $298K$, por exemplo. Ou se estamos a axustar unha gaussiana é moi interesante poñer o valor da media $\\mu$ a priori.\n",
    "\n",
    "Neste caso como non estamos a axustar variables física vou inicializar os parámetros todos a $1$."
   ]
  },
  {
   "cell_type": "code",
   "execution_count": 14,
   "metadata": {},
   "outputs": [],
   "source": [
    "p0 = [1., 1., 1., 1.]"
   ]
  },
  {
   "cell_type": "markdown",
   "metadata": {},
   "source": [
    "Agora, vamos sacar a forma dos nosos datos, para saber se temos que facer un axuste ponderado (temos acceso ás incertezas dos datos) ou non ponderado (non temos acceso ás incertezas dos datos e `curve_fit` asume unha distribución gaussiana arredor)."
   ]
  },
  {
   "cell_type": "code",
   "execution_count": 17,
   "metadata": {},
   "outputs": [],
   "source": [
    "F, C = datos.shape\n",
    "\n",
    "if C==3: #é dicir hai tres columnas en cada evento (X, Y, s(Y))\n",
    "    x, y, sy = np.split(datos, C, axis = 1)\n",
    "    tipo     = 'ponderado'\n",
    "else:\n",
    "    x, y = np.split(datos, C, axis = 1)\n",
    "    sy   = np.ones((F,1))\n",
    "    tipo = 'sen ponderar'"
   ]
  },
  {
   "cell_type": "markdown",
   "metadata": {},
   "source": [
    "Con isto os están en columna, queremos que estean nunha fila, iso facemolo facilmente:"
   ]
  },
  {
   "cell_type": "code",
   "execution_count": 18,
   "metadata": {},
   "outputs": [],
   "source": [
    "x  = np.hstack(x)\n",
    "y  = np.hstack(y)\n",
    "sy = np.hstack(sy)"
   ]
  },
  {
   "cell_type": "markdown",
   "metadata": {},
   "source": [
    "E xa estamos listos, a seguinte liña de código é a liña máxica, facemos o axuste nunha (1) sola liña (comeme los huevos Origin)."
   ]
  },
  {
   "cell_type": "code",
   "execution_count": 22,
   "metadata": {},
   "outputs": [],
   "source": [
    "coef, cov = sco.curve_fit(funcion_axuste, x, y, p0 = p0, sigma = sy, absolute_sigma = True)"
   ]
  },
  {
   "cell_type": "markdown",
   "metadata": {},
   "source": [
    "E xa está, o axuste está feito, agora imos básicamente facer o plot dos puntos experimentais, a curva axustada e calcular o $\\chi^2$. Realmente estas liñas que veñen a continuacón son bastante irrelevantes pero necesarias, todo isto estudase na parte de estatística das técnicas pero, let's be real, who gives a fuck?"
   ]
  },
  {
   "cell_type": "code",
   "execution_count": 29,
   "metadata": {},
   "outputs": [],
   "source": [
    "NC = len(p0)\n",
    "\n",
    "y_teo = funcion_axuste(x, *coef)\n",
    "\n",
    "dif_pon = (y - y_teo)/sy\n",
    "\n",
    "chi2 = np.sum(dif_pon**2)\n",
    "\n",
    "syx = (F*chi2/((F-NC)*np.sum(1./sy**2)))**0.5\n",
    "\n",
    "ym = np.sum(y/sy**2)/np.sum(1./sy**2)\n",
    "\n",
    "st = np.sum(((y-ym)/sy)**2)\n",
    "\n",
    "r2 = (st-chi2)/st\n",
    "\n",
    "E = np.diag(cov)**0.5\n",
    "\n",
    "if C==2:\n",
    "    E*=Syx"
   ]
  },
  {
   "cell_type": "markdown",
   "metadata": {},
   "source": [
    "Agora imos ao que nos interesa, que o programa nos de os resultados do axuste:"
   ]
  },
  {
   "cell_type": "code",
   "execution_count": 37,
   "metadata": {},
   "outputs": [
    {
     "name": "stdout",
     "output_type": "stream",
     "text": [
      "================ Resultados do axuste ================\n",
      "\\chi2= 0.014808076191942098\n",
      "desviación estándar= 0.013239371597953303\n",
      "coeficiente de regresión= 0.9999882208612639\n",
      "\n",
      "A[0]= 20.572927 , sA[0]= 2.165174\n",
      "A[1]= -8.226514 , sA[1]= 1.551941\n",
      "A[2]= 0.449993 , sA[2]= 0.360795\n",
      "A[3]= 0.094338 , sA[3]= 0.026659\n",
      "======================================================\n"
     ]
    }
   ],
   "source": [
    "print(r'================ Resultados do axuste ================')\n",
    "print(r'\\chi2=',chi2) #O parámetro chi^2 é moito máis interesante que o coeficiente de regresión\n",
    "print(u'desviación estándar=',syx)\n",
    "print('coeficiente de regresión=', r2**0.5)\n",
    "print()\n",
    "for i in range(NC):\n",
    "    print( 'A[{0:d}]= {1:f} , sA[{0:d}]= {2:f}'.format(i,coef[i],E[i]))\n",
    "\n",
    "print( '======================================================')"
   ]
  },
  {
   "cell_type": "markdown",
   "metadata": {},
   "source": [
    "Agora imos facer o plot e xa estaría."
   ]
  },
  {
   "cell_type": "code",
   "execution_count": 71,
   "metadata": {},
   "outputs": [
    {
     "data": {
      "image/png": "[encoded data removed]",
      "text/plain": [
       "<Figure size 792x432 with 1 Axes>"
      ]
     },
     "metadata": {
      "needs_background": "light"
     },
     "output_type": "display_data"
    }
   ],
   "source": [
    "plt.figure(figsize = (11,6))\n",
    "plt.grid(True)\n",
    "\n",
    "\n",
    "'''Ploteamos os puntos experimentais'''\n",
    "\n",
    "plt.errorbar(x, y, yerr = sy, marker = 'x', color = 'r', linestyle = '', label = 'Puntos Experimentais')\n",
    "\n",
    "'''Calculamos e ploteamos a curva'''\n",
    "\n",
    "\n",
    "xt=np.linspace(x[0]-0.2,x[-1]+0.2,1000) #Aquí eu recomendovos restar un pouco ao primeiro valor e sumar un pouco ao último, queda máis bonito\n",
    "yt=funcion_axuste(xt,*coef)\n",
    "\n",
    "plt.plot(xt, yt, 'k-', label = 'Axuste')\n",
    "\n",
    "plt.title(titulo)\n",
    "plt.xlabel(label_x)\n",
    "plt.ylabel(label_y)\n",
    "plt.plot()\n",
    "plt.show()\n",
    "\n",
    "#se queredes gardar a figura pododes facer plt.savefig('figure.pdf')\n",
    "#eu normalmente saco unha captura de pantalla"
   ]
  },
  {
   "cell_type": "markdown",
   "metadata": {},
   "source": [
    "E realmente, con isto xa estaría todo para facer axustes. Calquera dúbida contactademe por twitter (not joking on this one): `@Saul_Evergarden`.\n",
    "\n",
    "Deixo debaixo todo o código xunto para que vos sexa máis handy e podades copiar e pegar por se usades `spyder` ou `Visual Studio Code`."
   ]
  },
  {
   "cell_type": "code",
   "execution_count": 70,
   "metadata": {},
   "outputs": [
    {
     "name": "stdout",
     "output_type": "stream",
     "text": [
      "================ Resultados do axuste ================\n",
      "\\chi2= 0.014808076191942098\n",
      "desviación estándar= 0.013239371597953303\n",
      "coeficiente de regresión= 0.9999882208612639\n",
      "\n",
      "A[0]= 20.572927 , sA[0]= 2.165174\n",
      "A[1]= -8.226514 , sA[1]= 1.551941\n",
      "A[2]= 0.449993 , sA[2]= 0.360795\n",
      "A[3]= 0.094338 , sA[3]= 0.026659\n",
      "======================================================\n"
     ]
    },
    {
     "data": {
      "image/png": "[encoded data removed]",
      "text/plain": [
       "<Figure size 792x432 with 1 Axes>"
      ]
     },
     "metadata": {
      "needs_background": "light"
     },
     "output_type": "display_data"
    }
   ],
   "source": [
    "import numpy as np\n",
    "import scipy.optimize as sco\n",
    "import matplotlib.pyplot as plt\n",
    "\n",
    "nome_data = 'datos_axuste_1.txt'\n",
    "\n",
    "label_x = r'E $[GeV]$'\n",
    "label_y = r'$\\sqrt{\\eta}$'\n",
    "\n",
    "titulo = r'Aqui tamen vale latex $\\frac{\\Lambda}{\\Theta}$'\n",
    "\n",
    "datos = np.loadtxt(nome_data)\n",
    "\n",
    "def funcion_axuste(x, *coefs): #o asterisco (*) indica que non fixamos o número de coeficientes a introducir\n",
    "    A, B, C, D = coefs\n",
    "    y = A + B*x + C*x**2 + D*x**3\n",
    "    # a función podería ser: y = A*np.cos(B*x) + C*np.sin(D*x)\n",
    "    # ou outro tipo de funcións non lineais de numpy!\n",
    "    return y\n",
    "\n",
    "p0 = [1., 1., 1., 1.]\n",
    "\n",
    "F, C = datos.shape\n",
    "\n",
    "if C==3: #é dicir hai tres columnas en cada evento (X, Y, s(Y))\n",
    "    x, y, sy = np.split(datos, C, axis = 1)\n",
    "    tipo     = 'ponderado'\n",
    "else:\n",
    "    x, y = np.split(datos, C, axis = 1)\n",
    "    sy   = np.ones((F,1))\n",
    "    tipo = 'sen ponderar'\n",
    "    \n",
    "x  = np.hstack(x)\n",
    "y  = np.hstack(y)\n",
    "sy = np.hstack(sy)\n",
    "\n",
    "coef, cov = sco.curve_fit(funcion_axuste, x, y, p0 = p0, sigma = sy, absolute_sigma = True)\n",
    "\n",
    "NC = len(p0)\n",
    "\n",
    "y_teo = funcion_axuste(x, *coef)\n",
    "\n",
    "dif_pon = (y - y_teo)/sy\n",
    "\n",
    "chi2 = np.sum(dif_pon**2)\n",
    "\n",
    "syx = (F*chi2/((F-NC)*np.sum(1./sy**2)))**0.5\n",
    "\n",
    "ym = np.sum(y/sy**2)/np.sum(1./sy**2)\n",
    "\n",
    "st = np.sum(((y-ym)/sy)**2)\n",
    "\n",
    "r2 = (st-chi2)/st\n",
    "\n",
    "E = np.diag(cov)**0.5\n",
    "\n",
    "if C==2:\n",
    "    E*=Syx\n",
    "    \n",
    "print(r'================ Resultados do axuste ================')\n",
    "print(r'\\chi2=',chi2) \n",
    "print(u'desviación estándar=',syx)\n",
    "print('coeficiente de regresión=', r2**0.5)\n",
    "print()\n",
    "for i in range(NC):\n",
    "    print( 'A[{0:d}]= {1:f} , sA[{0:d}]= {2:f}'.format(i,coef[i],E[i]))\n",
    "\n",
    "print( '======================================================')\n",
    "\n",
    "plt.figure(figsize = (11,6))\n",
    "plt.grid(True)\n",
    "\n",
    "xt=np.linspace(x[0]-0.2,x[-1]+0.2,1000) #Aquí eu recomendovos restar un pouco ao primeiro valor e sumar un pouco ao último, queda máis bonito\n",
    "yt=funcion_axuste(xt,*coef)\n",
    "\n",
    "plt.errorbar(x, y, yerr = sy, marker = 'x', color = 'r', linestyle = '', label = 'Puntos Experimentais')\n",
    "plt.plot(xt, yt, 'k-', label = 'Axuste')\n",
    "\n",
    "\n",
    "plt.title(titulo)\n",
    "plt.xlabel(label_x)\n",
    "plt.ylabel(label_y)\n",
    "plt.legend(loc = 'best')\n",
    "plt.plot()\n",
    "plt.show()"
   ]
  },
  {
   "cell_type": "code",
   "execution_count": null,
   "metadata": {},
   "outputs": [],
   "source": []
  }
 ],
 "metadata": {
  "kernelspec": {
   "display_name": "Python 3",
   "language": "python",
   "name": "python3"
  },
  "language_info": {
   "codemirror_mode": {
    "name": "ipython",
    "version": 3
   },
   "file_extension": ".py",
   "mimetype": "text/x-python",
   "name": "python",
   "nbconvert_exporter": "python",
   "pygments_lexer": "ipython3",
   "version": "3.7.5"
  }
 },
 "nbformat": 4,
 "nbformat_minor": 4
}
